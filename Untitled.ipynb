{
 "cells": [
  {
   "cell_type": "code",
   "execution_count": 35,
   "id": "d1f6093a",
   "metadata": {},
   "outputs": [],
   "source": [
    "import gensim.downloader as gd\n",
    "\n",
    "import numpy as np\n",
    "from numpy.linalg import norm"
   ]
  },
  {
   "cell_type": "code",
   "execution_count": 59,
   "id": "f1048b21",
   "metadata": {},
   "outputs": [],
   "source": [
    "matrix = gd.load('word2vec-google-news-300')"
   ]
  },
  {
   "cell_type": "code",
   "execution_count": 8,
   "id": "a7dc07fb",
   "metadata": {},
   "outputs": [
    {
     "name": "stdout",
     "output_type": "stream",
     "text": [
      "[-0.29784   -0.13255   -0.14505   -0.22752   -0.027429   0.11005\n",
      " -0.039245  -0.0089607 -0.18866   -1.1213     0.34793   -0.30056\n",
      " -0.50103   -0.031383  -0.032185   0.018318  -0.090429  -0.14427\n",
      " -0.14306   -0.057477  -0.020931   0.56276   -0.018557   0.15168\n",
      " -0.25586   -0.081564   0.2803    -0.10585   -0.16777    0.21814\n",
      " -0.11845    0.56475   -0.12645   -0.062461  -0.68043    0.10507\n",
      "  0.24793   -0.20249   -0.30726    0.42815    0.38378   -0.19371\n",
      " -0.075951  -0.058287  -0.067195   0.2192     0.56116   -0.28156\n",
      " -0.13705    0.45754   -0.14671   -0.18562   -0.074146   0.60737\n",
      "  0.07952    0.41023    0.18377   -0.08532    0.43795   -0.34727\n",
      "  0.2077     0.50454    0.40244    0.1095    -0.48078   -0.22372\n",
      " -0.54619   -0.20782    0.13751   -0.16206   -0.24835    0.17124\n",
      "  0.037355   0.14547   -0.056205   0.2644    -0.38029    0.0029947\n",
      "  0.051608   0.21807   -0.071087   0.31543    0.24593    0.34444\n",
      " -0.36354   -0.12137   -0.013511   0.049564   0.031386   0.10316\n",
      " -0.44301    0.11663   -0.055576  -0.091434  -0.070799  -0.017031\n",
      "  0.046024   0.096063   0.10148   -0.33467   -0.043516   0.38271\n",
      "  0.018411   0.0049479  0.35587    0.40432    0.4823     0.12416\n",
      " -0.051926  -0.081769  -0.21542    0.71766   -0.0052553 -0.55428\n",
      "  0.68033    0.20255   -0.19927   -0.11563    0.0030103 -0.74399\n",
      " -0.21086    0.069584  -0.20315   -0.17027   -0.11292   -0.044594\n",
      " -0.2145     0.26097    0.36969   -0.65155    0.048649   0.044304\n",
      " -0.26604    0.23976   -0.38281   -0.02353   -0.020519  -0.52202\n",
      " -0.30595    0.088525   0.28395    0.15056    0.23202    0.30538\n",
      " -0.53674    0.21362    0.10999    0.4685    -0.60017   -0.13141\n",
      "  0.18707    0.11636    0.24703    0.17168    0.40658   -0.19039\n",
      "  0.033278  -0.26374    0.28722    0.27659    0.30153   -0.12622\n",
      "  0.5225     0.13887   -0.15012   -0.0038264 -0.074287   0.46348\n",
      "  0.26215   -0.62671    0.21841   -0.26531   -0.75294   -0.36826\n",
      "  0.072989  -0.071807   0.10612   -0.087064  -0.053871   0.22379\n",
      "  0.38538    0.053972   0.21208    0.39662   -0.38609   -0.53\n",
      " -0.34169    0.067624   0.11835    0.60372    0.21744   -0.12806\n",
      "  0.13802    0.22463   -0.21566   -0.25167   -0.44859   -0.39111\n",
      " -0.5259     0.21266    1.9729     0.13851    0.32966    0.047626\n",
      " -0.37787   -0.31769   -0.1283     0.34396   -0.11061   -0.23346\n",
      " -0.45134    0.1605    -0.32801    0.033373   0.42571    0.42283\n",
      " -0.16932    0.14068    0.14087    0.20856   -0.24912    0.38337\n",
      "  0.43722   -0.090575   0.021208  -0.22334   -0.42596   -0.47252\n",
      " -0.1995     0.32459    0.39765   -0.091573  -0.073528  -0.20074\n",
      "  0.22083    0.011314   0.11977   -0.14888   -0.27152    0.28908\n",
      "  0.20407    0.098377  -0.1424    -0.059699   0.032529  -0.1877\n",
      "  0.24643   -0.1128     0.14666    0.076001   0.31109   -0.22119\n",
      "  0.033051   0.066731   1.5449    -0.11096    0.26438    0.1791\n",
      "  0.039628  -0.46497    0.40052   -0.057004   0.11391    0.42397\n",
      " -0.57411    0.17205    0.44401   -0.030134  -0.22061    0.47222\n",
      " -0.12734   -0.12288    0.33832    0.41698    0.18355    0.093473\n",
      " -1.9373     0.053236  -0.10361    0.056681  -0.12726   -0.11681\n",
      "  0.55039    0.33644    0.27706    0.71184   -0.1304     0.26108\n",
      " -0.2481     0.0032735 -0.16505    0.11827   -0.26322   -0.10169\n",
      "  0.24275    0.16927   -0.15809    0.27613   -0.2832     0.50554  ]\n"
     ]
    }
   ],
   "source": [
    "try:\n",
    "    print(matrix['man'])\n",
    "except keyError:\n",
    "    print('Word not in model')"
   ]
  },
  {
   "cell_type": "code",
   "execution_count": 17,
   "id": "1e64a215",
   "metadata": {},
   "outputs": [
    {
     "data": {
      "text/plain": [
       "[('japan', 0.6798692345619202),\n",
       " ('seoul', 0.64313805103302),\n",
       " ('japanese', 0.6243130564689636),\n",
       " ('osaka', 0.6133337616920471),\n",
       " ('yen', 0.5302958488464355),\n",
       " ('nikkei', 0.4850928783416748),\n",
       " ('nagoya', 0.4847370982170105),\n",
       " ('taipei', 0.4750872254371643),\n",
       " ('shanghai', 0.4738467037677765),\n",
       " ('bangkok', 0.46978676319122314)]"
      ]
     },
     "execution_count": 17,
     "metadata": {},
     "output_type": "execute_result"
    }
   ],
   "source": [
    "matrix.most_similar('tokyo')"
   ]
  },
  {
   "cell_type": "code",
   "execution_count": 36,
   "id": "a275504d",
   "metadata": {},
   "outputs": [
    {
     "name": "stdout",
     "output_type": "stream",
     "text": [
      "0.62082785\n",
      "0.08639677\n"
     ]
    }
   ],
   "source": [
    "p1_similarity = matrix.similarity('boy', 'man')\n",
    "print(p1_similarity)\n",
    "p2_similarity = matrix.similarity('lamp', 'man')\n",
    "print(p2_similarity)"
   ]
  },
  {
   "cell_type": "code",
   "execution_count": 79,
   "id": "7ac0ff92",
   "metadata": {},
   "outputs": [],
   "source": [
    "def cosine_sim(i, j):\n",
    "    cosine = np.dot(i,j)/(norm(i)*norm(j))\n",
    "    return cosine\n",
    "\n",
    "def analogy(word_a1:str, word_a2:str, word_b1:str, embedding_matrix):\n",
    "    \n",
    "    if word_a1.isalpha() and word_a2.isalpha() and word_b1.isalpha():\n",
    "        word_a1, word_a2, word_b1 = word_a1.lower(), word_a2.lower(), word_b1.lower()\n",
    "    else:    \n",
    "        raise ValueError('Unrecognized characters or words')\n",
    "    \n",
    "    word_set = {word_a1, word_a2, word_b1}\n",
    "    best_match = None\n",
    "    max_sim = -100.0\n",
    "    \n",
    "    for index, key in enumerate(matrix.index_to_key):\n",
    "        if key in word_set:\n",
    "            continue\n",
    "        cos_sim = cosine_sim(matrix[word_a2] - matrix[word_a1], matrix[key] - matrix[word_b1])\n",
    "        \n",
    "        if cos_sim > max_sim:\n",
    "            max_sim = cos_sim\n",
    "            best_match = key\n",
    "    return best_match"
   ]
  },
  {
   "cell_type": "code",
   "execution_count": 80,
   "id": "5a8b3213",
   "metadata": {},
   "outputs": [
    {
     "name": "stdout",
     "output_type": "stream",
     "text": [
      "red\n",
      "winter\n",
      "gardener\n"
     ]
    }
   ],
   "source": [
    "print(analogy('banana', 'yellow', 'apple', matrix))\n",
    "print(analogy('july', 'summer', 'january', matrix))\n",
    "print(analogy('plumbing', 'plumber', 'gardening', matrix))"
   ]
  }
 ],
 "metadata": {
  "kernelspec": {
   "display_name": "Python 3 (ipykernel)",
   "language": "python",
   "name": "python3"
  },
  "language_info": {
   "codemirror_mode": {
    "name": "ipython",
    "version": 3
   },
   "file_extension": ".py",
   "mimetype": "text/x-python",
   "name": "python",
   "nbconvert_exporter": "python",
   "pygments_lexer": "ipython3",
   "version": "3.9.7"
  }
 },
 "nbformat": 4,
 "nbformat_minor": 5
}
